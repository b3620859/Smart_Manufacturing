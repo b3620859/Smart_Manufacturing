{
 "cells": [
  {
   "cell_type": "markdown",
   "metadata": {},
   "source": [
    "[Fault-Detection-Methodologies](https://github.com/Jason-M-Richards/Fault-Detection-Methodologies)\n",
    "\n",
    "[predict-remaining-useful-life](https://github.com/Featuretools/predict-remaining-useful-life)\n",
    "\n",
    "[python-ml-turbofan](https://github.com/TobiasGlaubach/python-ml-turbofan)\n",
    "\n",
    "[Catatan dari Buku Intelligent Fault Diagnosis and Remaining Useful Life Prediction of Rotating Machinery (Bag. 2)](https://medium.com/@yasirabd/catatan-dari-buku-intelligent-fault-diagnosis-and-remaining-useful-life-prediction-of-rotating-488cdf81a6ee)"
   ]
  }
 ],
 "metadata": {
  "kernelspec": {
   "display_name": "Python 3",
   "language": "python",
   "name": "python3"
  },
  "language_info": {
   "codemirror_mode": {
    "name": "ipython",
    "version": 3
   },
   "file_extension": ".py",
   "mimetype": "text/x-python",
   "name": "python",
   "nbconvert_exporter": "python",
   "pygments_lexer": "ipython3",
   "version": "3.8.5"
  }
 },
 "nbformat": 4,
 "nbformat_minor": 4
}
