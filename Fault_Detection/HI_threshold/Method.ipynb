{
 "cells": [
  {
   "cell_type": "markdown",
   "metadata": {},
   "source": [
    "## 原方法"
   ]
  },
  {
   "cell_type": "code",
   "execution_count": null,
   "metadata": {},
   "outputs": [],
   "source": [
    "## 顯示 Raw Data 資訊\n",
    "from scipy import stats\n",
    "from scipy.stats import norm, skew\n",
    "# 查看 scaler_train['Loss_mae'] 的 skewness\n",
    "fig=plt.figure(figsize=(15,5))\n",
    "# pic1\n",
    "plt.subplot(1,2,1)\n",
    "sns.distplot(scored_train['Loss_mae'],fit=norm)\n",
    "(mu,sigma)=norm.fit(scored_train['Loss_mae'])\n",
    "plt.legend(['$\\mu=$ {:.2f} and $\\sigma=$ {:.2f}'.format(mu,sigma)],loc='best')\n",
    "plt.ylabel('Frequency')\n",
    "# pic2\n",
    "plt.subplot(1,2,2)\n",
    "res=stats.probplot(scored_train['Loss_mae'],plot=plt)\n",
    "plt.suptitle('Before')\n",
    "print(f\"Skewness of saleprice: {scored_train['Loss_mae'].skew()}\")\n",
    "print(f\"Kurtosis of saleprice: {scored_train['Loss_mae'].kurt()}\")"
   ]
  },
  {
   "cell_type": "code",
   "execution_count": null,
   "metadata": {},
   "outputs": [],
   "source": [
    "# 3.\n",
    "# Threshold 決定(評估耗損時間起始點 TSP)\n",
    "# 將 Threshold 設定為高於數據 99.98%\n",
    "TSP_threshold = np.quantile(scored_train['Loss_mae'], q=0.9998)\n",
    "print(f'MSE 0.9998 Threshold: {TSP_threshold}')\n",
    "print(max(scored_train['Loss_mae']))\n",
    "\n",
    "# scored['Threshold'] = TSP_threshold"
   ]
  },
  {
   "cell_type": "markdown",
   "metadata": {},
   "source": [
    "## Box-Cox 轉換"
   ]
  },
  {
   "cell_type": "code",
   "execution_count": null,
   "metadata": {},
   "outputs": [],
   "source": [
    "# 創建 Box-Cox 轉換後 DataFrame\n",
    "scored_train_BoxCox = pd.DataFrame(index=scored_train.index)"
   ]
  },
  {
   "cell_type": "code",
   "execution_count": null,
   "metadata": {},
   "outputs": [],
   "source": [
    "# 當原始數據分佈是有偏度時，不滿足正態分佈，通過Box-cox轉換修正分佈的偏態\n",
    "# 使用 Box-cox 來降低 skewness 值，達到接近正態分佈的目的\n",
    "# power transform\n",
    "from scipy.stats import boxcox\n",
    "\n",
    "# 需搜尋最優的參數 lambda\n",
    "scored_train_BoxCox['Loss_mae'],lambda_=stats.boxcox(scored_train['Loss_mae'])\n",
    "print(f\"λ : {lambda_}\")"
   ]
  },
  {
   "cell_type": "code",
   "execution_count": null,
   "metadata": {},
   "outputs": [],
   "source": [
    "## 查看 Box-Cox 轉換後資訊\n",
    "fig=plt.figure(figsize=(15,5))\n",
    "#pic1\n",
    "plt.subplot(1,2,1)\n",
    "sns.distplot(scored_train_BoxCox['Loss_mae'],fit=norm)\n",
    "(mu,sigma)=norm.fit(scored_train_BoxCox['Loss_mae'])\n",
    "plt.legend(['$\\mu=$ {:.2f} and $\\sigma=$ {:.2f}'.format(mu,sigma)],loc='best')\n",
    "plt.ylabel('Frequency')\n",
    "#pic2\n",
    "plt.subplot(1,2,2)\n",
    "res=stats.probplot(scored_train_BoxCox['Loss_mae'],plot=plt)\n",
    "plt.suptitle('After')\n",
    "print(f\"Skewness of saleprice: {scored_train_BoxCox['Loss_mae'].skew()}\")\n",
    "print(f\"Kurtosis of saleprice: {scored_train_BoxCox['Loss_mae'].kurt()}\")"
   ]
  },
  {
   "cell_type": "code",
   "execution_count": null,
   "metadata": {},
   "outputs": [],
   "source": [
    "# 1.\n",
    "def threshold_select_BoxCox_test(value, lam):\n",
    "    # log case\n",
    "    if lam == 0:\n",
    "        return np.exp(np.quantile(value, q=0.9998))\n",
    "    # all other cases\n",
    "    return (lam*(np.quantile(value, q=0.9998))+1)**(1/lam)\n",
    "threshold_boxcox_test = threshold_select(scored_train_BoxCox['Loss_mae'], lambda_)\n",
    "print(threshold_boxcox_test)  "
   ]
  },
  {
   "cell_type": "code",
   "execution_count": null,
   "metadata": {},
   "outputs": [],
   "source": [
    "# 2.\n",
    "def threshold_select_BoxCox(value, lam):\n",
    "    # log case\n",
    "    if lam == 0:\n",
    "        return np.exp(np.mean(value) + np.std(value)*3)\n",
    "    # all other cases\n",
    "    return (lam*(np.mean(value) + np.std(value)*3)+1)**(1/lam)\n",
    "threshold_boxcox = threshold_select(scored_train_BoxCox['Loss_mae'], lambda_)\n",
    "print(threshold_boxcox)"
   ]
  },
  {
   "cell_type": "markdown",
   "metadata": {},
   "source": [
    "## Yeo-Johnson 轉換"
   ]
  },
  {
   "cell_type": "code",
   "execution_count": null,
   "metadata": {},
   "outputs": [],
   "source": [
    "# Yeo-Johnson 轉換\n",
    "from scipy import stats\n",
    "\n",
    "# 創建 Yeo-Johnson 轉換後 DataFrame\n",
    "scored_train_YeoJohnson = pd.DataFrame(index=scored_train.index)\n",
    "\n",
    "scored_train_YeoJohnson['Loss_mae'],lambda1 = stats.yeojohnson(scored_train['Loss_mae'])\n",
    "print(f\"λ : {lambda1}\")"
   ]
  },
  {
   "cell_type": "code",
   "execution_count": null,
   "metadata": {},
   "outputs": [],
   "source": [
    "# Yeo-Johnson 轉換 視覺化\n",
    "fig=plt.figure(figsize=(15,5))\n",
    "#pic1\n",
    "plt.subplot(1,2,1)\n",
    "sns.distplot(scored_train_YeoJohnson['Loss_mae'],fit=norm)\n",
    "(mu,sigma)=norm.fit(scored_train_YeoJohnson['Loss_mae'])\n",
    "plt.legend(['$\\mu=$ {:.2f} and $\\sigma=$ {:.2f}'.format(mu,sigma)],loc='best')\n",
    "plt.ylabel('Frequency')\n",
    "#pic2\n",
    "plt.subplot(1,2,2)\n",
    "res=stats.probplot(scored_train_YeoJohnson['Loss_mae'],plot=plt)\n",
    "plt.suptitle('After')\n",
    "print(f\"Skewness of saleprice: {scored_train_YeoJohnson['Loss_mae'].skew()}\")\n",
    "print(f\"Kurtosis of saleprice: {scored_train_YeoJohnson['Loss_mae'].kurt()}\")"
   ]
  },
  {
   "cell_type": "code",
   "execution_count": null,
   "metadata": {},
   "outputs": [],
   "source": [
    "def threshold_select_YeoJohnson(value, lam):\n",
    "    if np.quantile(value, q=0.9998) >= 0 and lam == 0:\n",
    "        return (exp(np.quantile(value, q=0.9998)) - 1)\n",
    "    elif np.quantile(value, q=0.9998) >= 0 and lam != 0:\n",
    "        return ((np.quantile(value, q=0.9998) * lam + 1) ** (1 / lam) - 1)\n",
    "    elif np.quantile(value, q=0.9998) < 0 and lam != 2:\n",
    "        return (1 - (-(2 - lam) * np.quantile(value, q=0.9998) + 1) ** (1 / (2 - lam)))\n",
    "    elif np.quantile(value, q=0.9998) < 0 and lam == 2:\n",
    "        return (1 - exp(-np.quantile(value, q=0.9998)))\n",
    "\n",
    "threshold_YeoJohnson = threshold_select_YeoJohnson(scored_train_YeoJohnson['Loss_mae'], lambda1)\n",
    "print(threshold_YeoJohnson)"
   ]
  }
 ],
 "metadata": {
  "kernelspec": {
   "display_name": "Python 3",
   "language": "python",
   "name": "python3"
  },
  "language_info": {
   "codemirror_mode": {
    "name": "ipython",
    "version": 3
   },
   "file_extension": ".py",
   "mimetype": "text/x-python",
   "name": "python",
   "nbconvert_exporter": "python",
   "pygments_lexer": "ipython3",
   "version": "3.8.5"
  }
 },
 "nbformat": 4,
 "nbformat_minor": 4
}
