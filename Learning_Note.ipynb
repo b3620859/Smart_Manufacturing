{
 "cells": [
  {
   "cell_type": "markdown",
   "metadata": {},
   "source": [
    "### 沒有人天生就是天才，要當個可以被訓練的人。"
   ]
  },
  {
   "cell_type": "markdown",
   "metadata": {},
   "source": [
    "Extreme Rare Event Classification: Remaining Useful Life Estimation using LSTM in Keras\n",
    "- [towardsdatascience](https://towardsdatascience.com/extreme-rare-event-classification-remaining-useful-life-estimation-using-lstm-in-keras-81c9b5aa15f0)\n",
    "- [github](https://github.com/Daniel-Arayala/RUL_estimation_paper_mill/blob/master/RUL_Estimation_using_LSTM_in_Keras.ipynb)\n",
    "\n",
    "Jet Engine Remaining Useful Life (RUL) Prediction\n",
    "- [medium](https://medium.com/@hamalyas_/jet-engine-remaining-useful-life-rul-prediction-a8989d52f194)\n",
    "- [github](https://github.com/Ali-Alhamaly/Turbofan_usefull_life_prediction/blob/master/Jet_Engine_Remaining_Useful_Life_Prediction.ipynb)\n",
    "\n",
    "Forecasting NASA's Turbofan Jet Engine's RUL\n",
    "- [kaggle](https://www.kaggle.com/hibamechyakha/rul-forecasting)\n",
    "\n",
    "Hard Drive Failure Prediction in the Data Center: Ensemble Learning versus Deep Convolutional Neural Networks\n",
    "- [medium](https://medium.com/@tadelloro/hard-drive-remaining-useful-life-estimation-in-the-data-center-comparing-ensemble-learning-with-2a357a579943)\n",
    "- [github](https://github.com/tadelloro/Hard_Drive_Failure/blob/master/Stage_2_Remaining_Useful_Life.ipynb)\n",
    "\n",
    "Temporal Convolutional Memory Networks for Remaining Useful Life Estimation of Industrial Machinery(RUL-Net)\n",
    "- [Arxiv paper](https://arxiv.org/pdf/1810.05644.pdf)\n",
    "- [github](https://github.com/LahiruJayasinghe/RUL-Net)\n",
    "\n",
    "Turbofan-Airplane-fault-prognosis\n",
    "- [github](https://github.com/navarmn/Turbofan-Airplane-fault-prognosis)\n",
    "\n",
    "LANL Earthquake Prediction\n",
    "- [kaggle](https://www.kaggle.com/c/LANL-Earthquake-Prediction/notebooks)\n",
    "\n",
    "Oracle Data Science Blog\n",
    "- [Oracle Data Science Blog](https://blogs.oracle.com/datascience/)\n",
    "\n",
    "A Neural Network-Evolutionary Computational Framework for Remaining Useful Life Estimation of Mechanical Systems\n",
    "- [Arxiv paper](https://arxiv.org/pdf/1905.05918.pdf)\n",
    "- [github](https://github.com/dlaredo/NASA_RUL_-CMAPS-)\n",
    "\n",
    "Aircraft Engine Prognostics Based on Informative Sensor Selection and Adaptive Degradation Modeling with Functional Principal Component Analysis\n",
    " - [paper](https://www.mdpi.com/1424-8220/20/3/920/htm)\n",
    " \n",
    "mustafashabbir10/Prognosis\n",
    "- [github](https://github.com/mustafashabbir10/Prognosis/blob/master/Prognosis.ipynb)\n",
    "\n",
    "(重要)A reliable technique for remaining useful life estimation of rolling element bearings using dynamic regression models\n",
    "- [paper](https://www.sciencedirect.com/science/article/pii/S0951832017310608)"
   ]
  },
  {
   "cell_type": "markdown",
   "metadata": {},
   "source": [
    "### machine learning 學習網站\n",
    "1. Machine Learning Mastery\n",
    "    - [link](https://machinelearningmastery.com/blog/)"
   ]
  },
  {
   "cell_type": "markdown",
   "metadata": {},
   "source": [
    "Sequential VAE-LSTM for Anomaly Detection on Time Series\n",
    "- [paper](https://arxiv.org/pdf/1910.03818.pdf)\n",
    "\n",
    "An Unsupervised Reconstruction-Based Fault\n",
    "- [paper](https://ieeexplore.ieee.org/abstract/document/8626094)\n",
    "\n",
    "(重要)A Hybrid Prognostics Technique for Rolling Element Bearings Using Adaptive Predictive Models(自適應模型)\n",
    "- [paper](https://ieeexplore.ieee.org/abstract/document/7995072)"
   ]
  },
  {
   "cell_type": "markdown",
   "metadata": {},
   "source": [
    "### 使用小波變換(Wavelet Transforms)的paper\n",
    "- Anomaly Detection and Fault Prognosis for Bearings\n",
    "    - [paper](https://ieeexplore.ieee.org/document/7485849)\n",
    "- A Reliable Health Indicator for Fault Prognosis of Bearings\n",
    "    - [paper](https://www.ncbi.nlm.nih.gov/pmc/articles/PMC6263687/)"
   ]
  },
  {
   "cell_type": "markdown",
   "metadata": {},
   "source": [
    "### Wavelet Transforms(小波變換)\n",
    "教學\n",
    "- [ataspinar.com](http://ataspinar.com/2018/12/21/a-guide-for-using-the-wavelet-transform-in-machine-learning/)\n",
    "- What is Wavelet and How We Use It for Data Science\n",
    "- [medium](https://towardsdatascience.com/what-is-wavelet-and-how-we-use-it-for-data-science-d19427699cef)"
   ]
  },
  {
   "cell_type": "markdown",
   "metadata": {},
   "source": [
    "### Empirical Mode Decomposition(經驗模塊分析)\n",
    "- Decomposing Signal Using Empirical Mode Decomposition — Algorithm Explanation for Dummy\n",
    "    - [medium](https://towardsdatascience.com/decomposing-signal-using-empirical-mode-decomposition-algorithm-explanation-for-dummy-93a93304c541)"
   ]
  },
  {
   "cell_type": "markdown",
   "metadata": {},
   "source": [
    "### 時間序列預測\n",
    "- Time Series Forecasting with SARIMA, Holt-Winters’, and Prophet\n",
    "    - [medium](https://medium.com/analytics-vidhya/time-series-forecasting-with-sarima-holt-winters-and-prophet-d6539fbdebe6)\n",
    "- Time Series Forecasting with a SARIMA Model\n",
    "    - [medium](https://towardsdatascience.com/time-series-forecasting-with-a-sarima-model-db051b7ae459)\n",
    "- Econometric Approach to Time Series Analysis — Seasonal ARIMA in Python\n",
    "    - [medium](https://towardsdatascience.com/econometric-approach-to-time-series-analysis-seasonal-arima-in-python-28f5782ee23)\n",
    "- Dynamic Time Warping (DTW)\n",
    "    - [medium](https://medium.com/datadriveninvestor/dynamic-time-warping-dtw-d51d1a1e4afc)\n",
    "#### LSTM\n",
    "    - Technical Indicators and GRU/LSTM to Predict Stock price\n",
    "        - [medium](https://towardsdatascience.com/forecasting-with-technical-indicators-and-gru-lstm-rnn-multivariate-time-series-a3244dcbc38b)\n",
    "    - Transfer Learning for Time Series Prediction\n",
    "        - [medium](https://towardsdatascience.com/transfer-learning-for-time-series-prediction-4697f061f000)       \n",
    "#### 貝葉斯(Bayesian)\n",
    "    - Being Bayesian and thinking deep: time-series prediction with uncertainty\n",
    "        - [medium](https://medium.com/@dan_90739/being-bayesian-and-thinking-deep-time-series-prediction-with-uncertainty-25ff581b056c)"
   ]
  },
  {
   "cell_type": "markdown",
   "metadata": {},
   "source": [
    "### Variational Autoencoder(VAE)\n",
    "- Modeling Telecom Customer Churn with Variational Autoencoder\n",
    "    - [medium](https://towardsdatascience.com/modeling-telecom-customer-churn-with-variational-autoencoder-4e5cf6194871)\n",
    "- Kullback–Leibler divergence\n",
    "    - [wiki](https://en.wikipedia.org/wiki/Kullback%E2%80%93Leibler_divergence)\n",
    "- Mixture of Variational Autoencoders — a Fusion Between MoE and VAE\n",
    "    - [medium](https://towardsdatascience.com/mixture-of-variational-autoencoders-a-fusion-between-moe-and-vae-22c0901a6675)\n",
    "- Generating Simulated Stock Price Data using a Variational Autoencoder\n",
    "    - [medium](https://medium.com/@ricardo.vrgl/generating-simulated-stock-price-data-using-a-variational-autoencoder-d18fc79fc623)\n",
    "- From Financial Compliance to Fraud Detection with Conditional Variational Autoencoders (CVAE) and Tensorflow\n",
    "    - [medium](https://medium.com/@amunategui/from-financial-compliance-to-fraud-detection-with-conditional-variational-autoencoders-cvae-and-2f911a2c98cb)\n",
    "- Variational Inference & Derivation of the Variational Autoencoder (VAE) Loss Function: A True Story\n",
    "    - [medium](https://towardsdatascience.com/variational-inference-derivation-of-the-variational-autoencoder-vae-loss-function-a-true-story-3543a3dc67ee)\n",
    "- A Tutorial on Variational Autoencoders with a Concise Keras Implementation\n",
    "    - [link](https://tiao.io/post/tutorial-on-variational-autoencoders-with-a-concise-keras-implementation/)\n",
    "- VAE for Image Generation\n",
    "    - [github](https://github.com/chaitanya100100/VAE-for-Image-Generation)"
   ]
  },
  {
   "cell_type": "markdown",
   "metadata": {},
   "source": [
    "### Kernel Density Estimation\n",
    "- Kernel Density Estimation\n",
    "    - [link](https://jakevdp.github.io/PythonDataScienceHandbook/05.13-kernel-density-estimation.html)\n",
    "- Kernel Density Estimation with Python using Sklearn\n",
    "    - [medium](https://medium.com/intel-student-ambassadors/kernel-density-estimation-with-python-using-sklearn-c50b3c337871)\n",
    "- Kernel Density Estimation in Python\n",
    "    - [link](https://jakevdp.github.io/blog/2013/12/01/kernel-density-estimation/)"
   ]
  },
  {
   "cell_type": "markdown",
   "metadata": {},
   "source": [
    "### Adaptive neuro fuzzy inference system(ANFIS)自適應神經模糊推理系統"
   ]
  },
  {
   "cell_type": "markdown",
   "metadata": {},
   "source": [
    "### 論文集\n",
    "1. Proceedings of the Annual Conference of the PHM Society(PHM 2019)\n",
    "    - [link](https://www.phmpapers.org/index.php/phmconf/issue/view/phm2019)"
   ]
  },
  {
   "cell_type": "markdown",
   "metadata": {},
   "source": [
    "### 論文搜尋網站\n",
    "1. Semantic Scholar\n",
    "    - [link](https://www.semanticscholar.org/)"
   ]
  },
  {
   "cell_type": "markdown",
   "metadata": {},
   "source": [
    "待解決問題\n",
    "- HI\n",
    "- 數據平滑化\n",
    "- 暫態異常\n",
    "- 數據融合\n",
    "- RUL prediction\n",
    "- 數據滑動窗口\n",
    "- 開始預測的時間（TSP）"
   ]
  },
  {
   "cell_type": "markdown",
   "metadata": {},
   "source": [
    "AE\n",
    "信號強度估計器（SIE）\n",
    "計算累加總和（SCS）\n",
    "能量指數（EI）捕獲AE信號中的瞬態活動,EI只是一段AE信號的RMS與AE信號整個長度的RMS之比\n",
    "\n",
    "建議的HI是在任何給定時間的振動加速度信號的RMS與基準RMS值之比\n",
    "一旦軸承表現出退化跡象並開始偏離其穩態行為，就會觸發RUL的預測,啟動預測過程的時間實例稱為TSP\n",
    "軸承HI中的這些隨機波動需要平滑以揭示潛在趨勢並構建可用於進行合理RUL估計的可靠模型\n",
    "使用簡單的線性整流技術（LRT）來平滑軸承HI,使其顯示出單調增加的趨勢"
   ]
  },
  {
   "cell_type": "markdown",
   "metadata": {},
   "source": [
    "常見預處理方式:\n",
    "1. RMS Value\n",
    "2. Mean Value\n",
    "3. Skewness Value(偏度)\n",
    "4. Kurtosis Value(峰度)\n",
    "\n",
    "缺點: 功率和RMS的相關性僅對漸進式故障敏感\n",
    "對 Raw Data 作 RMS(Root Mean Square)(均方根):\n",
    "\n",
    "Kumaava/RUL-from-Vibration-Signal\n",
    "- [Github](https://github.com/Kumaava/RUL-from-Vibration-Signal/blob/master/Nanoprecise.ipynb)"
   ]
  },
  {
   "cell_type": "markdown",
   "metadata": {},
   "source": [
    "在初步預處理後，會存在隨機異常(random Errors in stochastic process)及虛假波動問題"
   ]
  },
  {
   "cell_type": "markdown",
   "metadata": {},
   "source": [
    "定義HI指數:\n",
    "- 須能良好表示 sensor 增加或(減少)?的趨勢\n",
    "- 對噪聲、隨機波動具有穩定性\n",
    "1. 計算各 sensor 與 AE 重構的 loss(使用MSE) 值\n",
    "2. 使用 離散小波轉換(DWT) 創造多個子代"
   ]
  },
  {
   "cell_type": "markdown",
   "metadata": {},
   "source": [
    "健康指數HI 平滑化:\n",
    "1. 局部加權回歸(Lowess): 因波動性的數據，不能簡單以線性方式擬合，否則偏差會變大\n",
    "    Lowess --> 可以擬合出一條福合整體趨勢的曲線，進而作預測"
   ]
  },
  {
   "cell_type": "markdown",
   "metadata": {},
   "source": [
    "定義 開始預測時間點(time-to-start prediction)(TSP): Sensor偏離正常行為並開始退化的點\n",
    "問題: 從中提取的特徵中的隨機異常以及確定故障閾值"
   ]
  },
  {
   "cell_type": "markdown",
   "metadata": {},
   "source": [
    "RUL(Remaining Useful Life)(剩餘使用壽命) 估算方法:\n",
    "分成三步驟\n",
    "1. 確定開始時間(TSP), 使用動態回歸模型預測 HI 的未來值，\n",
    "2. 使用 LRT 平滑 HI 曲線，最後在該HI值窗口上擬合線性回歸模型"
   ]
  },
  {
   "cell_type": "markdown",
   "metadata": {},
   "source": [
    "數據融合三種基本模式:\n",
    "1. 數據融合(data fusion):數據融合是直接在原始數據層上收集的數據的融合，並且在對各種傳感器進行原始測量之前對數據進行合成和分析\n",
    "    可以保留盡可能多的現場數據\n",
    "2. 特徵融合(feature fusion):傳感器的特徵級融合提供從觀測數據中提取的代表性特徵，將其融合到單個特徵向量中，然後使用模式識別方法對其進行處理\n",
    "3. 決策融合(decision fusion):基於特定決策問題的需求，並充分利用了特徵級融合提取的各種特徵信息\n",
    "\n",
    "方法:\n",
    "    使用卡爾曼濾波和 加權遞歸平均濾波 ->多 sensor 融合方法\n",
    "    \n",
    "Keywords :transient fault(瞬態故障)\n",
    "            偽傳感器增強方法（PSEM）\n",
    "            data-driven methods"
   ]
  },
  {
   "cell_type": "markdown",
   "metadata": {},
   "source": [
    "### 數據融合(Data Fusion)的方法\n",
    "#### 1. Kalman Filters(卡爾曼濾波)\n",
    "教學:\n",
    "- Building an Autonomous Vehicle Part 4.1: Sensor Fusion and Object Tracking using Kalman Filters\n",
    "     - [medium](https://medium.com/@akhilsuri194/building-an-autonomous-vehicle-part-4-1-sensor-fusion-and-object-tracking-using-kalman-filters-66589e522965)\n",
    "- Kalman Filter 1D for time series trend / smoothing\n",
    "    - [kaggle](https://www.kaggle.com/aussie84/train-fare-trends-using-kalman-filter-1d)\n",
    "     \n",
    "#### 2. Gated Multimodal Units(GMU)\n",
    "- Gated Multimodal Units for Information Fusion\n",
    "    - [medium](https://towardsdatascience.com/gated-multimodal-units-for-information-fusion-966a9a2e1c54)"
   ]
  },
  {
   "cell_type": "markdown",
   "metadata": {},
   "source": [
    "Multi-sensor Anomaly Detection and prediction\n",
    "- An Encoder-Decoder Based Approach for Anomaly Detection with Application in Additive Manufacturing\n",
    "    - [paper](https://authors.library.caltech.edu/98461/1/1907.11778.pdf)\n",
    "- Multi-sensor data fusion in wireless sensor network using Machine Learning\n",
    "    - [medium](https://medium.com/@srawat2991/multi-sensor-data-fusion-in-wireless-sensor-network-using-machine-learning-ca17fb12729e)\n",
    "    - 使用 Rough Set (RS)(粗糙集) 判斷multi-sensor\n",
    "- Learning to Predict Other Vehicles’ Trajectories for Safe Autonomous Driving\n",
    "    - [medium](https://medium.com/@hello_isee/learning-to-predict-other-vehicles-trajectories-for-safe-autonomous-driving-cbfb1b8053a4)\n",
    "    - [paper](https://arxiv.org/pdf/1904.04776.pdf)\n",
    "    - 使用 Multi-Agent Tensor Fusion (MATF) 和 Multi-Agent Tensor (MAT) \n",
    "- 適用於預測性維護解決方案的 AI 指南(Wicrosft)\n",
    "    - [link](https://docs.microsoft.com/zh-tw/azure/machine-learning/team-data-science-process/predictive-maintenance-playbook)\n",
    "- 用機器學習算法預測出貨前設備（卡車）故障的維護參數的預測分析\n",
    "    - [link](https://kknews.cc/zh-tw/news/k2kpe4b.html)\n",
    "- 相關知識解釋\n",
    "    - 工業網際網路正確打開方式系列（九）：預測性維護\n",
    "        - [link](https://kknews.cc/tech/kbxrnzp.html)\n",
    "- An Adaptive Multi-Sensor Data Fusion Method Based on Deep Convolutional Neural Networks for Fault Diagnosis of Planetary Gearbox\n",
    "    - [paper](https://pdfs.semanticscholar.org/9625/e46907f2e7d812d1f61c992d06ebb4eaf85a.pdf?_ga=2.212013527.271933963.1584367701-1442329632.1579049182)\n",
    "    \n",
    "重要參考論文:\n",
    "- An Adaptive Multi-Sensor Data Fusion Method Based on Deep Convolutional Neural Networks for Fault Diagnosis of Planetary Gearbox\n",
    "    - [paper](https://www.mdpi.com/1424-8220/17/2/414)\n",
    "- Mechanical fault diagnosis and prediction in IoT based on multi-source sensing data fusion\n",
    "    - [paper](https://www.sciencedirect.com/science/article/pii/S1569190X19301145#bib0123)\n",
    "- Remaining useful life estimation in prognostics using deep convolution neural networks\n",
    "    - [paper](https://www.sciencedirect.com/science/article/pii/S0951832017307779)\n",
    "- Remaining Useful Life Prediction Based on a Double-Convolutional Neural Network Architecture\n",
    "    - [paper](https://ieeexplore.ieee.org/abstract/document/8752268)"
   ]
  },
  {
   "cell_type": "markdown",
   "metadata": {},
   "source": [
    "1. preprocessing 預處理\n",
    "2. local-data fusion 本地數據融合\n",
    "3. change detection 變更檢測\n",
    "4. credibility computation 可信度計算\n",
    "5. decision-level information fusion 決策級信息融合\n",
    "6. fault isolation 故障隔離"
   ]
  },
  {
   "cell_type": "markdown",
   "metadata": {},
   "source": [
    "Keywords:\n",
    "- 預測性維護（Predictive Maintenance，簡稱PdM）\n",
    "- Multi-Sensor Data Fusion, Data Modelling & Techniques Training Bootcamp(相關關鍵字整理)\n",
    "    - [medium](https://medium.com/@Boutiqueaufild/multi-sensor-data-fusion-data-modelling-techniques-training-bootcamp-323d543c6ce6)\n",
    "    - [link](https://www.tonex.com/training-courses/sensor-and-data-fusion-training-bootcamp/)    \n",
    "- Fault Detection and Isolation(故障檢測和隔離)\n",
    "- data interaction(數據交互)"
   ]
  },
  {
   "cell_type": "markdown",
   "metadata": {},
   "source": [
    "2020.03.15待看論文\n",
    "- Mechanical fault diagnosis and prediction in IoT based on multi-source sensing data fusion\n",
    "    - [paper](https://www.sciencedirect.com/science/article/pii/S1569190X19301145)"
   ]
  },
  {
   "cell_type": "markdown",
   "metadata": {},
   "source": [
    "可行方法:\n",
    "    1. 基於按時間順序對連續時間序列中相同類型 sensor 獲取的平均數進行加權，得出最終融合值\n",
    "    2. 基於概率的算法包括基於貝葉斯理論和DS證據理論的算法\n",
    "    3. 基於模糊邏輯算法的研究，包括模糊集和粗糙集"
   ]
  },
  {
   "cell_type": "markdown",
   "metadata": {},
   "source": [
    "待看論文\n",
    "1. https://ieeexplore.ieee.org/search/searchresult.jsp?newsearch=true&queryText=Fusion%20of%20Low-level%20Features%20with%20Stacked%20Autoencoder%20for%20Condition%20based%20Monitoring%20of%20Machines\n",
    "\n",
    "3. https://www.citi.sinica.edu.tw/papers/whc/5051-F.pdf"
   ]
  },
  {
   "cell_type": "markdown",
   "metadata": {},
   "source": [
    "### Unsupervised Anomaly Detection(含 Code)\n",
    "- [link](https://paperswithcode.com/task/unsupervised-anomaly-detection)"
   ]
  },
  {
   "cell_type": "markdown",
   "metadata": {},
   "source": [
    "daslimo/Bearing-Prognostics-Using-LSTM\n",
    "    - [Github](https://github.com/daslimo/Bearing-Prognostics-Using-LSTM/blob/master/LSTM_UNIVARIATE.ipynb)"
   ]
  },
  {
   "cell_type": "markdown",
   "metadata": {},
   "source": [
    "Predictive maintenance"
   ]
  },
  {
   "cell_type": "markdown",
   "metadata": {},
   "source": [
    "### 2020325\n",
    "Jointly Trained Variational Autoencoder for Multi-Modal Sensor Fusion\n",
    "- [paper](https://ieeexplore.ieee.org/document/9011314)\n",
    "\n",
    "daslimo/Bearing-Prognostics-Using-LSTM\n",
    "- [github](https://github.com/daslimo/Bearing-Prognostics-Using-LSTM/blob/master/LSTM_UNIVARIATE.ipynb)"
   ]
  },
  {
   "cell_type": "markdown",
   "metadata": {},
   "source": [
    "### 參考用關鍵字\n",
    "Evaluation of threshold selection methods for adaptive kernel density estimation in disease mapping"
   ]
  }
 ],
 "metadata": {
  "kernelspec": {
   "display_name": "Python 3",
   "language": "python",
   "name": "python3"
  },
  "language_info": {
   "codemirror_mode": {
    "name": "ipython",
    "version": 3
   },
   "file_extension": ".py",
   "mimetype": "text/x-python",
   "name": "python",
   "nbconvert_exporter": "python",
   "pygments_lexer": "ipython3",
   "version": "3.8.5"
  }
 },
 "nbformat": 4,
 "nbformat_minor": 4
}
