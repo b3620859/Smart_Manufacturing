{
 "cells": [
  {
   "cell_type": "markdown",
   "metadata": {},
   "source": [
    "\n",
    "[bearing Dataset](https://zhuanlan.zhihu.com/p/88938034)"
   ]
  },
  {
   "cell_type": "markdown",
   "metadata": {},
   "source": [
    "### CWRU Dataset\n",
    "Data was collected for normal bearings, single-point drive end and fan end defects.  \n",
    "Data was collected at 12,000 samples/second and at 48,000 samples/second for drive end bearing experiments.  \n",
    "All fan end bearing data was collected at 12,000 samples/second.  "
   ]
  },
  {
   "cell_type": "markdown",
   "metadata": {},
   "source": [
    "- DE - drive end accelerometer data (驅動端加速度數據)\n",
    "- FE - fan end accelerometer data (風扇端加速度數據)\n",
    "- BA - base accelerometer data (電機支撐基本平板加速度數據)\n",
    "- time - time series data (時間序列數據)\n",
    "- RPM- rpm during testing (轉速)\n",
    "- [理論知識](https://zhuanlan.zhihu.com/p/40852333)\n",
    "- [滚动轴承故障特征频率的计算](http://blog.sina.com.cn/s/blog_574d08530100p3pr.html)"
   ]
  },
  {
   "cell_type": "code",
   "execution_count": 2,
   "metadata": {},
   "outputs": [
    {
     "name": "stderr",
     "output_type": "stream",
     "text": [
      "Using TensorFlow backend.\n"
     ]
    }
   ],
   "source": [
    "from scipy.io import loadmat\n",
    "import pandas as pd\n",
    "import numpy as np\n",
    "import matplotlib.pyplot as plt\n",
    "\n",
    "import time\n",
    "import tensorflow as tf\n",
    "import keras\n",
    "\n",
    "%matplotlib inline"
   ]
  },
  {
   "cell_type": "code",
   "execution_count": null,
   "metadata": {},
   "outputs": [],
   "source": [
    "# X100_DE = rawdata['X100_DE_time']\n",
    "# X100_FE = rawdata['X100_FE_time']\n",
    "# X100_RPM = rawdata['X100RPM']"
   ]
  },
  {
   "cell_type": "code",
   "execution_count": 2,
   "metadata": {},
   "outputs": [],
   "source": [
    "batch_size = 128\n",
    "epochs = 12\n",
    "num_classes = 10\n",
    "length = 2048\n",
    "BatchNorm = True # 是否批量归一化\n",
    "number = 1000 # 每类样本的数量\n",
    "normal = True # 是否标准化\n",
    "rate = [0.7,0.2,0.1] # 测试集验证集划分比例\n",
    "date=time.strftime(\"%Y%m%d\", time.localtime())\n",
    "mark=time.strftime(\"%Y%m%d_%H%M\", time.localtime())"
   ]
  },
  {
   "cell_type": "code",
   "execution_count": 5,
   "metadata": {},
   "outputs": [],
   "source": [
    "import preprocess\n",
    "path = '/home/cslab/Documents/CWRU/12DriveEndFault/1797/12DriveEndFault/1797/'\n",
    "x_train, y_train, x_valid, y_valid, x_test, y_test = preprocess.prepro(d_path=path,\n",
    "                                                                length=length,\n",
    "                                                                number=number,\n",
    "                                                                normal=False,\n",
    "                                                                rate=rate,\n",
    "                                                                enc=True,\n",
    "                                                                enc_step=28)"
   ]
  },
  {
   "cell_type": "code",
   "execution_count": 6,
   "metadata": {},
   "outputs": [],
   "source": [
    "x_train, x_valid, x_test = x_train[:,:,np.newaxis], x_valid[:,:,np.newaxis], x_test[:,:,np.newaxis]"
   ]
  },
  {
   "cell_type": "code",
   "execution_count": 7,
   "metadata": {},
   "outputs": [],
   "source": [
    "input_shape =x_train.shape[1:]"
   ]
  },
  {
   "cell_type": "code",
   "execution_count": 8,
   "metadata": {},
   "outputs": [
    {
     "name": "stdout",
     "output_type": "stream",
     "text": [
      "train shape: (10500, 2048, 1)\n",
      "10500 train 樣本個數\n",
      "valid shape (3000, 2048, 1)\n",
      "3000 valid 樣本個數\n",
      "test shape (1500, 2048, 1)\n",
      "1500 test 樣本個數\n"
     ]
    }
   ],
   "source": [
    "print('train shape:', x_train.shape)\n",
    "print(x_train.shape[0], 'train 樣本個數')\n",
    "print('valid shape', x_valid.shape)\n",
    "print(x_valid.shape[0], 'valid 樣本個數')\n",
    "print('test shape', x_test.shape)\n",
    "print(x_test.shape[0], 'test 樣本個數')"
   ]
  },
  {
   "cell_type": "code",
   "execution_count": 12,
   "metadata": {},
   "outputs": [],
   "source": [
    "from keras.models import Sequential\n",
    "from keras.layers import LSTM\n",
    "from keras.layers import RepeatVector\n",
    "from keras.layers import Dense\n",
    "from keras.layers import TimeDistributed\n",
    "from keras.layers import Flatten"
   ]
  },
  {
   "cell_type": "code",
   "execution_count": 15,
   "metadata": {},
   "outputs": [
    {
     "ename": "ValueError",
     "evalue": "Error when checking target: expected dense_2 to have shape (10,) but got array with shape (15,)",
     "output_type": "error",
     "traceback": [
      "\u001b[0;31m---------------------------------------------------------------------------\u001b[0m",
      "\u001b[0;31mValueError\u001b[0m                                Traceback (most recent call last)",
      "\u001b[0;32m<ipython-input-15-1d2bd71af04a>\u001b[0m in \u001b[0;36m<module>\u001b[0;34m\u001b[0m\n\u001b[1;32m     20\u001b[0m \u001b[0;31m# 开始模型训练\u001b[0m\u001b[0;34m\u001b[0m\u001b[0;34m\u001b[0m\u001b[0;34m\u001b[0m\u001b[0m\n\u001b[1;32m     21\u001b[0m model.fit(x=x_train, y=y_train, batch_size=batch_size, epochs=epochs,\n\u001b[0;32m---> 22\u001b[0;31m           verbose=1, validation_data=(x_valid, y_valid), shuffle=True)\n\u001b[0m",
      "\u001b[0;32m~/.virtualenvs/py36env/lib/python3.6/site-packages/keras/engine/training.py\u001b[0m in \u001b[0;36mfit\u001b[0;34m(self, x, y, batch_size, epochs, verbose, callbacks, validation_split, validation_data, shuffle, class_weight, sample_weight, initial_epoch, steps_per_epoch, validation_steps, **kwargs)\u001b[0m\n\u001b[1;32m    953\u001b[0m             \u001b[0msample_weight\u001b[0m\u001b[0;34m=\u001b[0m\u001b[0msample_weight\u001b[0m\u001b[0;34m,\u001b[0m\u001b[0;34m\u001b[0m\u001b[0;34m\u001b[0m\u001b[0m\n\u001b[1;32m    954\u001b[0m             \u001b[0mclass_weight\u001b[0m\u001b[0;34m=\u001b[0m\u001b[0mclass_weight\u001b[0m\u001b[0;34m,\u001b[0m\u001b[0;34m\u001b[0m\u001b[0;34m\u001b[0m\u001b[0m\n\u001b[0;32m--> 955\u001b[0;31m             batch_size=batch_size)\n\u001b[0m\u001b[1;32m    956\u001b[0m         \u001b[0;31m# Prepare validation data.\u001b[0m\u001b[0;34m\u001b[0m\u001b[0;34m\u001b[0m\u001b[0;34m\u001b[0m\u001b[0m\n\u001b[1;32m    957\u001b[0m         \u001b[0mdo_validation\u001b[0m \u001b[0;34m=\u001b[0m \u001b[0;32mFalse\u001b[0m\u001b[0;34m\u001b[0m\u001b[0;34m\u001b[0m\u001b[0m\n",
      "\u001b[0;32m~/.virtualenvs/py36env/lib/python3.6/site-packages/keras/engine/training.py\u001b[0m in \u001b[0;36m_standardize_user_data\u001b[0;34m(self, x, y, sample_weight, class_weight, check_array_lengths, batch_size)\u001b[0m\n\u001b[1;32m    790\u001b[0m                 \u001b[0mfeed_output_shapes\u001b[0m\u001b[0;34m,\u001b[0m\u001b[0;34m\u001b[0m\u001b[0;34m\u001b[0m\u001b[0m\n\u001b[1;32m    791\u001b[0m                 \u001b[0mcheck_batch_axis\u001b[0m\u001b[0;34m=\u001b[0m\u001b[0;32mFalse\u001b[0m\u001b[0;34m,\u001b[0m  \u001b[0;31m# Don't enforce the batch size.\u001b[0m\u001b[0;34m\u001b[0m\u001b[0;34m\u001b[0m\u001b[0m\n\u001b[0;32m--> 792\u001b[0;31m                 exception_prefix='target')\n\u001b[0m\u001b[1;32m    793\u001b[0m \u001b[0;34m\u001b[0m\u001b[0m\n\u001b[1;32m    794\u001b[0m             \u001b[0;31m# Generate sample-wise weight values given the `sample_weight` and\u001b[0m\u001b[0;34m\u001b[0m\u001b[0;34m\u001b[0m\u001b[0;34m\u001b[0m\u001b[0m\n",
      "\u001b[0;32m~/.virtualenvs/py36env/lib/python3.6/site-packages/keras/engine/training_utils.py\u001b[0m in \u001b[0;36mstandardize_input_data\u001b[0;34m(data, names, shapes, check_batch_axis, exception_prefix)\u001b[0m\n\u001b[1;32m    134\u001b[0m                             \u001b[0;34m': expected '\u001b[0m \u001b[0;34m+\u001b[0m \u001b[0mnames\u001b[0m\u001b[0;34m[\u001b[0m\u001b[0mi\u001b[0m\u001b[0;34m]\u001b[0m \u001b[0;34m+\u001b[0m \u001b[0;34m' to have shape '\u001b[0m \u001b[0;34m+\u001b[0m\u001b[0;34m\u001b[0m\u001b[0;34m\u001b[0m\u001b[0m\n\u001b[1;32m    135\u001b[0m                             \u001b[0mstr\u001b[0m\u001b[0;34m(\u001b[0m\u001b[0mshape\u001b[0m\u001b[0;34m)\u001b[0m \u001b[0;34m+\u001b[0m \u001b[0;34m' but got array with shape '\u001b[0m \u001b[0;34m+\u001b[0m\u001b[0;34m\u001b[0m\u001b[0;34m\u001b[0m\u001b[0m\n\u001b[0;32m--> 136\u001b[0;31m                             str(data_shape))\n\u001b[0m\u001b[1;32m    137\u001b[0m     \u001b[0;32mreturn\u001b[0m \u001b[0mdata\u001b[0m\u001b[0;34m\u001b[0m\u001b[0;34m\u001b[0m\u001b[0m\n\u001b[1;32m    138\u001b[0m \u001b[0;34m\u001b[0m\u001b[0m\n",
      "\u001b[0;31mValueError\u001b[0m: Error when checking target: expected dense_2 to have shape (10,) but got array with shape (15,)"
     ]
    }
   ],
   "source": [
    "model = Sequential()\n",
    "\n",
    "model.add(LSTM(32, activation='tanh', \n",
    "               recurrent_activation='hard_sigmoid',\n",
    "               kernel_initializer='glorot_uniform', \n",
    "               recurrent_initializer='orthogonal', \n",
    "               bias_initializer='zeros', \n",
    "               return_sequences=True))\n",
    "\n",
    "          \n",
    "          \n",
    "model.add(Flatten())\n",
    "\n",
    "# 增加输出层，共num_classes个单元，激活函数为softmax\n",
    "model.add(Dense(units=num_classes, activation='softmax'))\n",
    "\n",
    "# 编译模型 评价函数和损失函数相似，不过评价函数的结果不会用于训练过程中\n",
    "model.compile(optimizer='Adam', loss='categorical_crossentropy',\n",
    "              metrics=['accuracy'])\n",
    "\n",
    "# 开始模型训练\n",
    "model.fit(x=x_train, y=y_train, batch_size=batch_size, epochs=epochs,\n",
    "          verbose=1, validation_data=(x_valid, y_valid), shuffle=True)\n"
   ]
  },
  {
   "cell_type": "code",
   "execution_count": null,
   "metadata": {},
   "outputs": [],
   "source": [
    "# 评估模型\n",
    "score = model.evaluate(x=x_test, y=y_test, verbose=0)\n",
    "print(\"测试集上的损失率：\", score[0])\n",
    "print(\"测试集上的准确率：\", score[1])\n",
    "# plot_model(model=model, to_file='images/lstm-diagnosis.png', show_shapes=True)"
   ]
  },
  {
   "cell_type": "markdown",
   "metadata": {},
   "source": [
    "### Python 讀取.mat文件"
   ]
  },
  {
   "cell_type": "code",
   "execution_count": null,
   "metadata": {},
   "outputs": [],
   "source": [
    "X = loadmat(r\"filename\")\n",
    "data_all = X['data'] # data為結構體的名稱\n",
    "print (data_all.shape)"
   ]
  },
  {
   "cell_type": "markdown",
   "metadata": {},
   "source": [
    "### 結果adat_all的shape為(1, 1)\n",
    "### 解決方法\n",
    "[scipy.io.loadmat](https://docs.scipy.org/doc/scipy/reference/generated/scipy.io.loadmat.html#scipy.io.loadmat)"
   ]
  },
  {
   "cell_type": "code",
   "execution_count": null,
   "metadata": {},
   "outputs": [],
   "source": [
    "data_all = X['data']\n",
    "data = data_all[0,0]['SYSLoad']\n",
    "print(data.shape)"
   ]
  },
  {
   "cell_type": "markdown",
   "metadata": {},
   "source": [
    "### 查看 Raw Data"
   ]
  },
  {
   "cell_type": "code",
   "execution_count": 3,
   "metadata": {},
   "outputs": [],
   "source": [
    "X = loadmat(\"/home/cslab/Documents/CWRU/12DriveEndFault/1797/12DriveEndFault/1797/0.007-Ball.mat\")"
   ]
  },
  {
   "cell_type": "code",
   "execution_count": 8,
   "metadata": {},
   "outputs": [
    {
     "data": {
      "text/plain": [
       "dict_keys(['__header__', '__version__', '__globals__', 'X118_DE_time', 'X118_FE_time', 'X118_BA_time', 'X118RPM'])"
      ]
     },
     "execution_count": 8,
     "metadata": {},
     "output_type": "execute_result"
    }
   ],
   "source": [
    "X.keys()"
   ]
  },
  {
   "cell_type": "code",
   "execution_count": 11,
   "metadata": {},
   "outputs": [
    {
     "data": {
      "text/plain": [
       "{'__header__': b'MATLAB 5.0 MAT-file, Platform: PCWIN, Created on: Mon Jan 31 13:55:05 2000',\n",
       " '__version__': '1.0',\n",
       " '__globals__': [],\n",
       " 'X118_DE_time': array([[-0.0027614 ],\n",
       "        [-0.09632403],\n",
       "        [ 0.11370459],\n",
       "        ...,\n",
       "        [-0.07829373],\n",
       "        [-0.14911545],\n",
       "        [ 0.02111657]]),\n",
       " 'X118_FE_time': array([[-0.24716182],\n",
       "        [ 0.14279091],\n",
       "        [ 0.00328727],\n",
       "        ...,\n",
       "        [ 0.01643636],\n",
       "        [-0.03842   ],\n",
       "        [-0.16806182]]),\n",
       " 'X118_BA_time': array([[ 0.01553163],\n",
       "        [ 0.01693994],\n",
       "        [-0.03645507],\n",
       "        ...,\n",
       "        [ 0.03178754],\n",
       "        [-0.03243134],\n",
       "        [-0.0668343 ]]),\n",
       " 'X118RPM': array([[1796]], dtype=uint16)}"
      ]
     },
     "execution_count": 11,
     "metadata": {},
     "output_type": "execute_result"
    }
   ],
   "source": [
    "X"
   ]
  },
  {
   "cell_type": "code",
   "execution_count": 12,
   "metadata": {},
   "outputs": [],
   "source": [
    "data = X['X118_DE_time'][0, :]"
   ]
  },
  {
   "cell_type": "code",
   "execution_count": 13,
   "metadata": {},
   "outputs": [
    {
     "data": {
      "text/plain": [
       "array([-0.0027614])"
      ]
     },
     "execution_count": 13,
     "metadata": {},
     "output_type": "execute_result"
    }
   ],
   "source": [
    "data"
   ]
  }
 ],
 "metadata": {
  "kernelspec": {
   "display_name": "Python 3",
   "language": "python",
   "name": "python3"
  },
  "language_info": {
   "codemirror_mode": {
    "name": "ipython",
    "version": 3
   },
   "file_extension": ".py",
   "mimetype": "text/x-python",
   "name": "python",
   "nbconvert_exporter": "python",
   "pygments_lexer": "ipython3",
   "version": "3.6.8"
  }
 },
 "nbformat": 4,
 "nbformat_minor": 4
}
